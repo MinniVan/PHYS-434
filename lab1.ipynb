{
 "cells": [
  {
   "cell_type": "markdown",
   "id": "92da2c30-2911-4b91-8c08-2b021f71a29e",
   "metadata": {},
   "source": [
    "# LAB 2"
   ]
  },
  {
   "cell_type": "code",
   "execution_count": 20,
   "id": "8de061f9-c5a8-4edd-bf92-bab5c7d5539d",
   "metadata": {},
   "outputs": [],
   "source": [
    "import scipy\n",
    "from scipy import stats"
   ]
  },
  {
   "cell_type": "markdown",
   "id": "5acb88b8-bbba-45e5-9ef7-b3a7718d34e9",
   "metadata": {},
   "source": [
    "## A litle Statistics"
   ]
  },
  {
   "cell_type": "markdown",
   "id": "3cd7750f-9de8-4c88-8e49-9f633d1de97b",
   "metadata": {},
   "source": [
    "### integrating the standard normal distribution"
   ]
  },
  {
   "cell_type": "code",
   "execution_count": 29,
   "id": "f8c88faf-2ecc-4d08-90be-3b1ebe122df9",
   "metadata": {},
   "outputs": [
    {
     "data": {
      "text/plain": [
       "0.5"
      ]
     },
     "execution_count": 29,
     "metadata": {},
     "output_type": "execute_result"
    }
   ],
   "source": [
    "# integral from -inf to 0 (Z=0)\n",
    "scipy.stats.norm.cdf(0)"
   ]
  },
  {
   "cell_type": "code",
   "execution_count": 30,
   "id": "367811fe-7af9-4df6-b984-8a600e719a0d",
   "metadata": {},
   "outputs": [
    {
     "data": {
      "text/plain": [
       "0.6179114221889526"
      ]
     },
     "execution_count": 30,
     "metadata": {},
     "output_type": "execute_result"
    }
   ],
   "source": [
    "# probability between -inf and 0.3 (Z=0.3)\n",
    "scipy.stats.norm.cdf(0.3)"
   ]
  },
  {
   "cell_type": "code",
   "execution_count": 32,
   "id": "3c5bb8d9-9267-49f3-bf38-4970a1a17614",
   "metadata": {},
   "outputs": [
    {
     "data": {
      "text/plain": [
       "0.7881446014166034"
      ]
     },
     "execution_count": 32,
     "metadata": {},
     "output_type": "execute_result"
    }
   ],
   "source": [
    "# probability between -inf and 0.8 (Z=0.8)\n",
    "scipy.stats.norm.cdf(0.8)"
   ]
  },
  {
   "cell_type": "code",
   "execution_count": 34,
   "id": "0ba4d8b8-9196-448a-a3b5-27ec2f99d9da",
   "metadata": {},
   "outputs": [
    {
     "data": {
      "text/plain": [
       "0.9986501019683699"
      ]
     },
     "execution_count": 34,
     "metadata": {},
     "output_type": "execute_result"
    }
   ],
   "source": [
    "# prob between -inf and 3 (Z=3)\n",
    "scipy.stats.norm.cdf(3)"
   ]
  },
  {
   "cell_type": "markdown",
   "id": "bdb71e1f-a46f-4170-b09f-a4b5105f2f14",
   "metadata": {},
   "source": [
    "### determine associated sigma values"
   ]
  },
  {
   "cell_type": "code",
   "execution_count": 35,
   "id": "f4c1742f-1bce-4587-9053-6a0bb40dea4c",
   "metadata": {},
   "outputs": [
    {
     "data": {
      "text/plain": [
       "0.0"
      ]
     },
     "execution_count": 35,
     "metadata": {},
     "output_type": "execute_result"
    }
   ],
   "source": [
    "# sigma for a prob of 0.5 \n",
    "scipy.stats.norm.ppf(0.5)"
   ]
  },
  {
   "cell_type": "code",
   "execution_count": 36,
   "id": "33369fa3-d580-4460-8918-fc49f2d90a35",
   "metadata": {},
   "outputs": [
    {
     "data": {
      "text/plain": [
       "0.9999803859660787"
      ]
     },
     "execution_count": 36,
     "metadata": {},
     "output_type": "execute_result"
    }
   ],
   "source": [
    "# sigma for prob of 0.84134 (from Z table)\n",
    "scipy.stats.norm.ppf(0.84134)"
   ]
  },
  {
   "cell_type": "code",
   "execution_count": 37,
   "id": "6379d7bd-fa41-4516-9075-ca7ca96c806c",
   "metadata": {},
   "outputs": [
    {
     "data": {
      "text/plain": [
       "-4.012810811118254"
      ]
     },
     "execution_count": 37,
     "metadata": {},
     "output_type": "execute_result"
    }
   ],
   "source": [
    "# sigma for a prob of 0.00003 [prob from -inf to -4 sigmas]\n",
    "# this gave a negative sigma, this means the prob/area is to the left of the center, (ie the probability form -inf to a point 4 sigmas to the left of the center)\n",
    "scipy.stats.norm.ppf(0.00003)"
   ]
  },
  {
   "cell_type": "markdown",
   "id": "7486c204-dac5-4ec9-b7e7-1b15ff3cad8f",
   "metadata": {},
   "source": [
    "## Other continuous analytic distributions aa"
   ]
  },
  {
   "cell_type": "code",
   "execution_count": null,
   "id": "e0dc549d-b38c-4dea-ac5d-817364a1a450",
   "metadata": {},
   "outputs": [],
   "source": []
  },
  {
   "cell_type": "code",
   "execution_count": null,
   "id": "48cb6b53-00dd-4337-81ed-166ed5737421",
   "metadata": {},
   "outputs": [],
   "source": []
  }
 ],
 "metadata": {
  "kernelspec": {
   "display_name": "Python 3",
   "language": "python",
   "name": "python3"
  },
  "language_info": {
   "codemirror_mode": {
    "name": "ipython",
    "version": 3
   },
   "file_extension": ".py",
   "mimetype": "text/x-python",
   "name": "python",
   "nbconvert_exporter": "python",
   "pygments_lexer": "ipython3",
   "version": "3.8.8"
  }
 },
 "nbformat": 4,
 "nbformat_minor": 5
}
