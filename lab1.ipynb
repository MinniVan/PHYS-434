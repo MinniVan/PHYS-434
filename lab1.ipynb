{
 "cells": [
  {
   "cell_type": "markdown",
   "id": "92da2c30-2911-4b91-8c08-2b021f71a29e",
   "metadata": {},
   "source": [
    "# LAB 1"
   ]
  },
  {
   "cell_type": "code",
   "execution_count": 67,
   "id": "8de061f9-c5a8-4edd-bf92-bab5c7d5539d",
   "metadata": {},
   "outputs": [],
   "source": [
    "import scipy\n",
    "from scipy import stats"
   ]
  },
  {
   "cell_type": "markdown",
   "id": "5acb88b8-bbba-45e5-9ef7-b3a7718d34e9",
   "metadata": {},
   "source": [
    "## A litle Statistics"
   ]
  },
  {
   "cell_type": "markdown",
   "id": "3cd7750f-9de8-4c88-8e49-9f633d1de97b",
   "metadata": {},
   "source": [
    "### integrating the standard normal distribution"
   ]
  },
  {
   "cell_type": "code",
   "execution_count": 68,
   "id": "f8c88faf-2ecc-4d08-90be-3b1ebe122df9",
   "metadata": {},
   "outputs": [
    {
     "data": {
      "text/plain": [
       "0.5"
      ]
     },
     "execution_count": 68,
     "metadata": {},
     "output_type": "execute_result"
    }
   ],
   "source": [
    "# integral from -inf to 0 (Z=0)\n",
    "scipy.stats.norm.cdf(0)"
   ]
  },
  {
   "cell_type": "code",
   "execution_count": 69,
   "id": "367811fe-7af9-4df6-b984-8a600e719a0d",
   "metadata": {},
   "outputs": [
    {
     "data": {
      "text/plain": [
       "0.6179114221889526"
      ]
     },
     "execution_count": 69,
     "metadata": {},
     "output_type": "execute_result"
    }
   ],
   "source": [
    "# probability between -inf and 0.3 (Z=0.3)\n",
    "scipy.stats.norm.cdf(0.3)"
   ]
  },
  {
   "cell_type": "code",
   "execution_count": 70,
   "id": "3c5bb8d9-9267-49f3-bf38-4970a1a17614",
   "metadata": {},
   "outputs": [
    {
     "data": {
      "text/plain": [
       "0.7881446014166034"
      ]
     },
     "execution_count": 70,
     "metadata": {},
     "output_type": "execute_result"
    }
   ],
   "source": [
    "# probability between -inf and 0.8 (Z=0.8)\n",
    "scipy.stats.norm.cdf(0.8)"
   ]
  },
  {
   "cell_type": "code",
   "execution_count": 71,
   "id": "0ba4d8b8-9196-448a-a3b5-27ec2f99d9da",
   "metadata": {},
   "outputs": [
    {
     "data": {
      "text/plain": [
       "0.9986501019683699"
      ]
     },
     "execution_count": 71,
     "metadata": {},
     "output_type": "execute_result"
    }
   ],
   "source": [
    "# prob between -inf and 3 (Z=3)\n",
    "scipy.stats.norm.cdf(3)"
   ]
  },
  {
   "cell_type": "markdown",
   "id": "bdb71e1f-a46f-4170-b09f-a4b5105f2f14",
   "metadata": {},
   "source": [
    "### Determine associated sigma values"
   ]
  },
  {
   "cell_type": "code",
   "execution_count": 72,
   "id": "f4c1742f-1bce-4587-9053-6a0bb40dea4c",
   "metadata": {},
   "outputs": [
    {
     "data": {
      "text/plain": [
       "0.0"
      ]
     },
     "execution_count": 72,
     "metadata": {},
     "output_type": "execute_result"
    }
   ],
   "source": [
    "# sigma for a prob of 0.5 \n",
    "scipy.stats.norm.ppf(0.5)"
   ]
  },
  {
   "cell_type": "code",
   "execution_count": 73,
   "id": "33369fa3-d580-4460-8918-fc49f2d90a35",
   "metadata": {},
   "outputs": [
    {
     "data": {
      "text/plain": [
       "0.9999803859660787"
      ]
     },
     "execution_count": 73,
     "metadata": {},
     "output_type": "execute_result"
    }
   ],
   "source": [
    "# sigma for prob of 0.84134 (from Z table)\n",
    "scipy.stats.norm.ppf(0.84134)"
   ]
  },
  {
   "cell_type": "code",
   "execution_count": 74,
   "id": "6379d7bd-fa41-4516-9075-ca7ca96c806c",
   "metadata": {},
   "outputs": [
    {
     "data": {
      "text/plain": [
       "-4.012810811118254"
      ]
     },
     "execution_count": 74,
     "metadata": {},
     "output_type": "execute_result"
    }
   ],
   "source": [
    "# sigma for a prob of 0.00003 [prob from -inf to -4 sigmas]\n",
    "# this gave a negative sigma, this means the prob/area is to the left of the center, (ie the probability form -inf to a point 4 sigmas to the left of the center)\n",
    "scipy.stats.norm.ppf(0.00003)"
   ]
  },
  {
   "cell_type": "markdown",
   "id": "7486c204-dac5-4ec9-b7e7-1b15ff3cad8f",
   "metadata": {},
   "source": [
    "## Continuous analytic distributions (Rayleigh)"
   ]
  },
  {
   "cell_type": "code",
   "execution_count": 75,
   "id": "e0dc549d-b38c-4dea-ac5d-817364a1a450",
   "metadata": {},
   "outputs": [],
   "source": [
    "import numpy as np\n",
    "import matplotlib\n",
    "import matplotlib.pyplot as plt\n",
    "from scipy.stats import rayleigh\n"
   ]
  },
  {
   "cell_type": "code",
   "execution_count": 113,
   "id": "48cb6b53-00dd-4337-81ed-166ed5737421",
   "metadata": {},
   "outputs": [],
   "source": [
    "# realization with ~100k samples (random samples)\n",
    "d = rayleigh.rvs(loc = 0, scale = 0.1, size = 100000)"
   ]
  },
  {
   "cell_type": "code",
   "execution_count": 114,
   "id": "73129366-f61e-4ef5-98e6-ee8fdd437035",
   "metadata": {},
   "outputs": [
    {
     "data": {
      "image/png": "[encoded data removed]",
      "text/plain": [
       "<Figure size 432x288 with 1 Axes>"
      ]
     },
     "metadata": {
      "needs_background": "light"
     },
     "output_type": "display_data"
    }
   ],
   "source": [
    "fig, ax = plt.subplots(1, 1)\n",
    "ax.hist(d,10, density=True)\n",
    "plt.tick_params(labelsize = 12)\n",
    "plt.xlim([-1,3.05])\n",
    "x = np.linspace(-4,3.05,1000)\n",
    "ax.plot(x,rayleigh.pdf(x,loc = 0, scale = 0.1),linewidth = 8,alpha = 0.7)\n",
    "ax.set_xlim([-0.025,1])\n",
    "ax.set_ylim([0,7])\n",
    "plt.show()\n"
   ]
  },
  {
   "cell_type": "markdown",
   "id": "0b3bba06-dd5c-4128-8a86-b3acd233944c",
   "metadata": {},
   "source": [
    "## 3) Determining sigma value of my Rayleigh distribution"
   ]
  },
  {
   "cell_type": "markdown",
   "id": "9a14ceab-35ce-4b15-b3a3-4f7673b8a326",
   "metadata": {},
   "source": [
    "### &nbsp;&nbsp;a) Hypothetical measurement"
   ]
  },
  {
   "cell_type": "markdown",
   "id": "3aa06d69-9779-4d4b-a52b-a36597f6e8d7",
   "metadata": {},
   "source": [
    "####  &nbsp; &nbsp; &nbsp; &nbsp; choosing to be 0.02"
   ]
  },
  {
   "cell_type": "markdown",
   "id": "ca6e241e-c17d-4d87-b3c7-66026b705aa7",
   "metadata": {},
   "source": [
    "### &nbsp;&nbsp;b) Statistical question"
   ]
  },
  {
   "cell_type": "markdown",
   "id": "0028c247-ba08-447f-8d00-ef9d4380bdb6",
   "metadata": {},
   "source": [
    "####  &nbsp; &nbsp; &nbsp; &nbsp; What is the probability of recieving a signal of 3.02 or higher"
   ]
  },
  {
   "cell_type": "markdown",
   "id": "9114a97e-d03a-4b84-ba0a-752d8ae85eec",
   "metadata": {},
   "source": [
    "### &nbsp;&nbsp;c) Mathematical integral"
   ]
  },
  {
   "cell_type": "code",
   "execution_count": 164,
   "id": "312ec751-b98c-455a-b958-aefc655d40f2",
   "metadata": {
    "tags": []
   },
   "outputs": [],
   "source": [
    "theta = max(rayleigh.pdf(x,loc = 0.0, scale = 0.1))"
   ]
  },
  {
   "cell_type": "markdown",
   "id": "540d2f94-3767-438d-9e9b-128372c66e87",
   "metadata": {
    "tags": []
   },
   "source": [
    "####  &nbsp; &nbsp; &nbsp; &nbsp; $\\int_{3.02}^{\\infty} \\frac{x}{\\theta^2} e^{\\frac{-x^2}{2 \\theta^2}} \\,dx$\n",
    "\n",
    "this is for x greater or equal 3 in our case. NOTE:\n",
    "for a Rayleigh distribuiton, the peak (max) is the value\n",
    "for $\\theta$ (about 60.65)"
   ]
  },
  {
   "cell_type": "markdown",
   "id": "b55b53b3-5896-4985-abb3-9369576150eb",
   "metadata": {},
   "source": [
    "### &nbsp;&nbsp; d) Probability that the background produced the signal"
   ]
  },
  {
   "cell_type": "code",
   "execution_count": 165,
   "id": "f3c43e82-ffc8-4652-b8b4-131a30ac4305",
   "metadata": {},
   "outputs": [
    {
     "name": "stdout",
     "output_type": "stream",
     "text": [
      "0.9801986733067553\n"
     ]
    }
   ],
   "source": [
    "p = rayleigh.sf(x = 0.02, loc = 0.0, scale = 0.1)\n",
    "print(p)"
   ]
  },
  {
   "cell_type": "markdown",
   "id": "30862e24-2b91-46c3-bffe-262195020d4b",
   "metadata": {},
   "source": [
    "### &nbsp;&nbsp; e) Converting probability into an equivalent 'sigma'"
   ]
  },
  {
   "cell_type": "code",
   "execution_count": 166,
   "id": "18cc5ae9-c4f8-457c-8a82-1fcb37775196",
   "metadata": {},
   "outputs": [
    {
     "data": {
      "text/plain": [
       "0.28007164579146643"
      ]
     },
     "execution_count": 166,
     "metadata": {},
     "output_type": "execute_result"
    }
   ],
   "source": [
    "rayleigh.ppf(p, loc = 0.0, scale = 0.1)"
   ]
  },
  {
   "cell_type": "markdown",
   "id": "8f183343-ba76-408e-8a2e-2aa0751dc661",
   "metadata": {},
   "source": [
    "## 4) Varrying sigmas for different hypothetical measurement values"
   ]
  },
  {
   "cell_type": "code",
   "execution_count": 153,
   "id": "30d2d401-89eb-4bbd-8090-5cfb9671101e",
   "metadata": {},
   "outputs": [
    {
     "name": "stdout",
     "output_type": "stream",
     "text": [
      "Probability:\t0.9559974818331\n",
      "Sigma:\t\t0.2499403295042879\n"
     ]
    }
   ],
   "source": [
    "# Prob. of seeing a signal of 0.03 or higher \n",
    "p = rayleigh.sf(x = 0.03, loc = 0, scale = 0.1)\n",
    "print(\"Probability:\\t\" + str(p))\n",
    "print(\"Sigma:\\t\\t\" + str(rayleigh.ppf(p, loc = 0.0, scale = 0.1)))"
   ]
  },
  {
   "cell_type": "code",
   "execution_count": 154,
   "id": "d5913492-7c44-4c1e-9d8f-3c1bc6c9d7dd",
   "metadata": {},
   "outputs": [
    {
     "name": "stdout",
     "output_type": "stream",
     "text": [
      "Probability:\t0.9231163463866358\n",
      "Sigma:\t\t0.2265154295787537\n"
     ]
    }
   ],
   "source": [
    "# Prob. of seeing a signal of 0.04 or higher \n",
    "p = rayleigh.sf(x = 0.04, loc = 0, scale = 0.1)\n",
    "print(\"Probability:\\t\" + str(p))\n",
    "print(\"Sigma:\\t\\t\" + str(rayleigh.ppf(p, loc = 0.0, scale = 0.1)))"
   ]
  },
  {
   "cell_type": "code",
   "execution_count": 155,
   "id": "56b52be4-9236-4c69-92e5-c8ec0f5cb9e1",
   "metadata": {},
   "outputs": [
    {
     "name": "stdout",
     "output_type": "stream",
     "text": [
      "Probability:\t0.6065306597126334\n",
      "Sigma:\t\t0.1365834638283265\n"
     ]
    }
   ],
   "source": [
    "# Prob. of seeing a signal of 0.1 or higher \n",
    "p = rayleigh.sf(x = 0.1, loc = 0, scale = 0.1)\n",
    "print(\"Probability:\\t\" + str(p))\n",
    "print(\"Sigma:\\t\\t\" + str(rayleigh.ppf(p, loc = 0.0, scale = 0.1)))"
   ]
  },
  {
   "cell_type": "code",
   "execution_count": 156,
   "id": "a8b6cf98-7bcc-4b18-95c3-36d4f69c93f8",
   "metadata": {},
   "outputs": [
    {
     "name": "stdout",
     "output_type": "stream",
     "text": [
      "Probability:\t0.1353352832366127\n",
      "Sigma:\t\t0.053928370616746636\n"
     ]
    }
   ],
   "source": [
    "# Prob. of seeing a signal of 0.2 or higher \n",
    "p = rayleigh.sf(x = 0.2, loc = 0, scale = 0.1)\n",
    "print(\"Probability:\\t\" + str(p))\n",
    "print(\"Sigma:\\t\\t\" + str(rayleigh.ppf(p, loc = 0.0, scale = 0.1)))"
   ]
  },
  {
   "cell_type": "code",
   "execution_count": 157,
   "id": "3e802d21-adce-4890-be26-8d9758fdc45e",
   "metadata": {},
   "outputs": [
    {
     "name": "stdout",
     "output_type": "stream",
     "text": [
      "Probability:\t0.011108996538242316\n",
      "Sigma:\t\t0.014947349108318134\n"
     ]
    }
   ],
   "source": [
    "# Prob. of seeing a signal of 0.3 or higher \n",
    "p = rayleigh.sf(x = 0.3, loc = 0, scale = 0.1)\n",
    "print(\"Probability:\\t\" + str(p))\n",
    "print(\"Sigma:\\t\\t\" + str(rayleigh.ppf(p, loc = 0.0, scale = 0.1)))"
   ]
  },
  {
   "cell_type": "code",
   "execution_count": 161,
   "id": "a248fa38-b9a3-455e-9023-2973911fbb43",
   "metadata": {},
   "outputs": [
    {
     "name": "stdout",
     "output_type": "stream",
     "text": [
      "Probability:\t0.00033546262790251185\n",
      "Sigma:\t\t0.0025904397621902744\n"
     ]
    }
   ],
   "source": [
    "# Prob. of seeing a signal of 0.4 or higher \n",
    "p = rayleigh.sf(x = 0.4, loc = 0, scale = 0.1)\n",
    "print(\"Probability:\\t\" + str(p))\n",
    "print(\"Sigma:\\t\\t\" + str(rayleigh.ppf(p, loc = 0.0, scale = 0.1)))"
   ]
  },
  {
   "cell_type": "code",
   "execution_count": 162,
   "id": "69ed62d9-c064-41f8-b37f-1e7cc347a9c4",
   "metadata": {},
   "outputs": [
    {
     "name": "stdout",
     "output_type": "stream",
     "text": [
      "Probability:\t1.5229979744712682e-08\n",
      "Sigma:\t\t1.7452781933370292e-05\n"
     ]
    }
   ],
   "source": [
    "# Prob. of seeing a signal of 0.3 or higher \n",
    "p = rayleigh.sf(x = 0.6, loc = 0, scale = 0.1)\n",
    "print(\"Probability:\\t\" + str(p))\n",
    "print(\"Sigma:\\t\\t\" + str(rayleigh.ppf(p, loc = 0.0, scale = 0.1)))"
   ]
  },
  {
   "cell_type": "code",
   "execution_count": 163,
   "id": "b885acbb-8030-4ada-8ac6-2935e5449576",
   "metadata": {},
   "outputs": [
    {
     "name": "stdout",
     "output_type": "stream",
     "text": [
      "Probability:\t0.999999995\n",
      "Sigma:\t\t0.6182851757981875\n"
     ]
    }
   ],
   "source": [
    "# Prob. of seeing a signal of 0.3 or higher \n",
    "p = rayleigh.sf(x = 0.00001, loc = 0, scale = 0.1)\n",
    "print(\"Probability:\\t\" + str(p))\n",
    "print(\"Sigma:\\t\\t\" + str(rayleigh.ppf(p, loc = 0.0, scale = 0.1)))"
   ]
  },
  {
   "cell_type": "markdown",
   "id": "74d2c318-191a-4662-a8a1-f460b4daf050",
   "metadata": {},
   "source": [
    "### &nbsp;&nbsp;Pattern"
   ]
  },
  {
   "cell_type": "markdown",
   "id": "9c4dc949-3bf9-493f-9365-bd3b2f6376f6",
   "metadata": {},
   "source": [
    "#### &nbsp;&nbsp;&nbsp;&nbsp;&nbsp;&nbsp; Looks like the value for sigma decreases as you go from measurement value of 0 to infinity. Sigma increases as probability tends to 1"
   ]
  },
  {
   "cell_type": "code",
   "execution_count": null,
   "id": "b0a8924a-b569-4897-b82a-51a9176092c3",
   "metadata": {},
   "outputs": [],
   "source": []
  },
  {
   "cell_type": "markdown",
   "id": "2eee1d5e-34d9-4752-b67b-935b2e71e319",
   "metadata": {},
   "source": []
  },
  {
   "cell_type": "markdown",
   "id": "780df088-1eea-4f73-9159-2523b98adbfc",
   "metadata": {},
   "source": []
  }
 ],
 "metadata": {
  "kernelspec": {
   "display_name": "Python 3",
   "language": "python",
   "name": "python3"
  },
  "language_info": {
   "codemirror_mode": {
    "name": "ipython",
    "version": 3
   },
   "file_extension": ".py",
   "mimetype": "text/x-python",
   "name": "python",
   "nbconvert_exporter": "python",
   "pygments_lexer": "ipython3",
   "version": "3.8.8"
  }
 },
 "nbformat": 4,
 "nbformat_minor": 5
}
