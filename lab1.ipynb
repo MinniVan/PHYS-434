{
 "cells": [
  {
   "cell_type": "markdown",
   "id": "92da2c30-2911-4b91-8c08-2b021f71a29e",
   "metadata": {},
   "source": [
    "# LAB 1"
   ]
  },
  {
   "cell_type": "code",
   "execution_count": 1,
   "id": "8de061f9-c5a8-4edd-bf92-bab5c7d5539d",
   "metadata": {},
   "outputs": [],
   "source": [
    "import scipy\n",
    "from scipy import stats"
   ]
  },
  {
   "cell_type": "markdown",
   "id": "5acb88b8-bbba-45e5-9ef7-b3a7718d34e9",
   "metadata": {},
   "source": [
    "## A litle Statistics (Converting probability to sigma)"
   ]
  },
  {
   "cell_type": "markdown",
   "id": "e02595ec-62c6-46f2-aa4a-bac762e07dd8",
   "metadata": {},
   "source": [
    "#### &nbsp;&nbsp;&nbsp; In physics, sigmas represent a probability, we want to know, given a probability, what is the associated sigma value"
   ]
  },
  {
   "cell_type": "markdown",
   "id": "4616b654-f730-4e42-bbc7-c9c83b990180",
   "metadata": {},
   "source": [
    "&nbsp;&nbsp;&nbsp;&nbsp;&nbsp;&nbsp; &nbsp;&nbsp; We can integrate a continuous probability distribution to get the probability at some regions we are integrating over."
   ]
  },
  {
   "cell_type": "markdown",
   "id": "dd039656-e216-4808-a362-221ba11925f2",
   "metadata": {},
   "source": [
    "&nbsp;&nbsp;&nbsp;&nbsp;&nbsp;&nbsp; &nbsp;&nbsp; In python, the scipy.stats library allows us to call methods such as stats.norm.cdf() to obtain statistical cumulative probability distributions."
   ]
  },
  {
   "cell_type": "markdown",
   "id": "1af5a3f2-8151-4641-bd19-df08296364f3",
   "metadata": {},
   "source": [
    "So, given a z value, we can use the CDF to turn it into a probability. (below are examples for a Gausian distribution)"
   ]
  },
  {
   "cell_type": "code",
   "execution_count": 2,
   "id": "e64f343e-b776-4237-bfa6-72d8f99d9ef7",
   "metadata": {},
   "outputs": [
    {
     "data": {
      "text/plain": [
       "0.5"
      ]
     },
     "execution_count": 2,
     "metadata": {},
     "output_type": "execute_result"
    }
   ],
   "source": [
    "# integral from -inf to 0 (Z=0)\n",
    "scipy.stats.norm.cdf(0)"
   ]
  },
  {
   "cell_type": "code",
   "execution_count": 3,
   "id": "367811fe-7af9-4df6-b984-8a600e719a0d",
   "metadata": {},
   "outputs": [
    {
     "data": {
      "text/plain": [
       "0.6179114221889526"
      ]
     },
     "execution_count": 3,
     "metadata": {},
     "output_type": "execute_result"
    }
   ],
   "source": [
    "# probability between -inf and 0.3 (Z=0.3)\n",
    "scipy.stats.norm.cdf(0.3)"
   ]
  },
  {
   "cell_type": "code",
   "execution_count": 4,
   "id": "3c5bb8d9-9267-49f3-bf38-4970a1a17614",
   "metadata": {},
   "outputs": [
    {
     "data": {
      "text/plain": [
       "0.7881446014166034"
      ]
     },
     "execution_count": 4,
     "metadata": {},
     "output_type": "execute_result"
    }
   ],
   "source": [
    "# probability between -inf and 0.8 (Z=0.8)\n",
    "scipy.stats.norm.cdf(0.8)"
   ]
  },
  {
   "cell_type": "code",
   "execution_count": 5,
   "id": "0ba4d8b8-9196-448a-a3b5-27ec2f99d9da",
   "metadata": {},
   "outputs": [
    {
     "data": {
      "text/plain": [
       "0.9986501019683699"
      ]
     },
     "execution_count": 5,
     "metadata": {},
     "output_type": "execute_result"
    }
   ],
   "source": [
    "# prob between -inf and 3 (Z=3)\n",
    "scipy.stats.norm.cdf(3)"
   ]
  },
  {
   "cell_type": "markdown",
   "id": "075283aa-2ce4-48e8-8f68-3f5fc5a5edbd",
   "metadata": {},
   "source": [
    "### Determine associated sigma values"
   ]
  },
  {
   "cell_type": "markdown",
   "id": "3fe25bb5-ca22-4ec7-82ab-dda06b5f2e87",
   "metadata": {
    "tags": []
   },
   "source": [
    "More often, instead of being given a sigma value and asked find it's corresponding probability. We are instead given the probability and are asked to find the corresponding sigam value"
   ]
  },
  {
   "cell_type": "markdown",
   "id": "4231018e-1d53-49b2-bf44-28fe12f42b1c",
   "metadata": {
    "tags": []
   },
   "source": [
    "In this case, we can use stats.norm.ppf() to get the sigma given a probability (below are examples for a Gausian distribution)"
   ]
  },
  {
   "cell_type": "code",
   "execution_count": 6,
   "id": "f4c1742f-1bce-4587-9053-6a0bb40dea4c",
   "metadata": {},
   "outputs": [
    {
     "data": {
      "text/plain": [
       "0.0"
      ]
     },
     "execution_count": 6,
     "metadata": {},
     "output_type": "execute_result"
    }
   ],
   "source": [
    "# sigma for a prob of 0.5 \n",
    "scipy.stats.norm.ppf(0.5)"
   ]
  },
  {
   "cell_type": "code",
   "execution_count": 7,
   "id": "33369fa3-d580-4460-8918-fc49f2d90a35",
   "metadata": {},
   "outputs": [
    {
     "data": {
      "text/plain": [
       "0.9999803859660787"
      ]
     },
     "execution_count": 7,
     "metadata": {},
     "output_type": "execute_result"
    }
   ],
   "source": [
    "# sigma for prob of 0.84134 (from Z table)\n",
    "scipy.stats.norm.ppf(0.84134)"
   ]
  },
  {
   "cell_type": "code",
   "execution_count": 8,
   "id": "6379d7bd-fa41-4516-9075-ca7ca96c806c",
   "metadata": {},
   "outputs": [
    {
     "data": {
      "text/plain": [
       "-4.012810811118254"
      ]
     },
     "execution_count": 8,
     "metadata": {},
     "output_type": "execute_result"
    }
   ],
   "source": [
    "# sigma for a prob of 0.00003 [prob from -inf to -4 sigmas]\n",
    "# this gave a negative sigma, this means the prob/area is to the left of the center, (ie the probability form -inf to a point 4 sigmas to the left of the center)\n",
    "scipy.stats.norm.ppf(0.00003)"
   ]
  },
  {
   "cell_type": "markdown",
   "id": "7486c204-dac5-4ec9-b7e7-1b15ff3cad8f",
   "metadata": {},
   "source": [
    "## Continuous analytic distributions (Rayleigh)"
   ]
  },
  {
   "cell_type": "code",
   "execution_count": 9,
   "id": "e0dc549d-b38c-4dea-ac5d-817364a1a450",
   "metadata": {},
   "outputs": [],
   "source": [
    "import numpy as np\n",
    "import matplotlib\n",
    "import matplotlib.pyplot as plt\n",
    "from scipy.stats import rayleigh\n"
   ]
  },
  {
   "cell_type": "code",
   "execution_count": 10,
   "id": "48cb6b53-00dd-4337-81ed-166ed5737421",
   "metadata": {},
   "outputs": [],
   "source": [
    "# realization with ~100k samples (random samples)\n",
    "d = rayleigh.rvs(loc = 0, scale = 0.1, size = 100000)"
   ]
  },
  {
   "cell_type": "code",
   "execution_count": 11,
   "id": "73129366-f61e-4ef5-98e6-ee8fdd437035",
   "metadata": {},
   "outputs": [
    {
     "data": {
      "image/png": "[encoded data removed]",
      "text/plain": [
       "<Figure size 432x288 with 1 Axes>"
      ]
     },
     "metadata": {
      "needs_background": "light"
     },
     "output_type": "display_data"
    }
   ],
   "source": [
    "fig, ax = plt.subplots(1, 1)\n",
    "ax.hist(d,10, density=True)\n",
    "plt.tick_params(labelsize = 12)\n",
    "plt.xlim([-1,3.05])\n",
    "x = np.linspace(-4,3.05,1000)\n",
    "ax.plot(x,rayleigh.pdf(x,loc = 0, scale = 0.1),linewidth = 8,alpha = 0.7)\n",
    "ax.set_xlim([-0.025,1])\n",
    "ax.set_ylim([0,7])\n",
    "plt.show()\n"
   ]
  },
  {
   "cell_type": "markdown",
   "id": "0b3bba06-dd5c-4128-8a86-b3acd233944c",
   "metadata": {},
   "source": [
    "## 3) Determining sigma value of my Rayleigh distribution"
   ]
  },
  {
   "cell_type": "markdown",
   "id": "9a14ceab-35ce-4b15-b3a3-4f7673b8a326",
   "metadata": {},
   "source": [
    "### &nbsp;&nbsp;a) Hypothetical measurement"
   ]
  },
  {
   "cell_type": "markdown",
   "id": "3aa06d69-9779-4d4b-a52b-a36597f6e8d7",
   "metadata": {},
   "source": [
    "####  &nbsp; &nbsp; &nbsp; &nbsp; choosing to be 0.02"
   ]
  },
  {
   "cell_type": "markdown",
   "id": "ca6e241e-c17d-4d87-b3c7-66026b705aa7",
   "metadata": {},
   "source": [
    "### &nbsp;&nbsp;b) Statistical question"
   ]
  },
  {
   "cell_type": "markdown",
   "id": "0028c247-ba08-447f-8d00-ef9d4380bdb6",
   "metadata": {},
   "source": [
    "####  &nbsp; &nbsp; &nbsp; &nbsp; What is the probability of recieving a signal of 3.02 or higher"
   ]
  },
  {
   "cell_type": "markdown",
   "id": "9114a97e-d03a-4b84-ba0a-752d8ae85eec",
   "metadata": {},
   "source": [
    "### &nbsp;&nbsp;c) Mathematical integral"
   ]
  },
  {
   "cell_type": "markdown",
   "id": "540d2f94-3767-438d-9e9b-128372c66e87",
   "metadata": {
    "tags": []
   },
   "source": [
    "####  &nbsp; &nbsp; &nbsp; &nbsp; $\\int_{3.02}^{\\infty} \\frac{x}{\\theta^2} e^{\\frac{-x^2}{2 \\theta^2}} \\,dx$\n",
    "\n",
    "this is for x greater or equal 3 in our case. NOTE:\n",
    "for a Rayleigh distribuiton, the peak (max) is the value\n",
    "for $\\theta$ (about 60.65)"
   ]
  },
  {
   "cell_type": "markdown",
   "id": "b55b53b3-5896-4985-abb3-9369576150eb",
   "metadata": {},
   "source": [
    "### &nbsp;&nbsp; d) Probability that the background produced the signal"
   ]
  },
  {
   "cell_type": "code",
   "execution_count": 13,
   "id": "f3c43e82-ffc8-4652-b8b4-131a30ac4305",
   "metadata": {},
   "outputs": [
    {
     "name": "stdout",
     "output_type": "stream",
     "text": [
      "0.9801986733067553\n"
     ]
    }
   ],
   "source": [
    "p = rayleigh.sf(x = 0.02, loc = 0.0, scale = 0.1)\n",
    "print(p)"
   ]
  },
  {
   "cell_type": "markdown",
   "id": "30862e24-2b91-46c3-bffe-262195020d4b",
   "metadata": {},
   "source": [
    "### &nbsp;&nbsp; e) Converting probability into an equivalent 'sigma'"
   ]
  },
  {
   "cell_type": "code",
   "execution_count": 36,
   "id": "18cc5ae9-c4f8-457c-8a82-1fcb37775196",
   "metadata": {},
   "outputs": [
    {
     "data": {
      "text/plain": [
       "0.573072886926708"
      ]
     },
     "execution_count": 36,
     "metadata": {},
     "output_type": "execute_result"
    }
   ],
   "source": [
    "scipy.stats.norm.ppf(p, loc = 0.0, scale = 0.1)"
   ]
  },
  {
   "cell_type": "markdown",
   "id": "8f183343-ba76-408e-8a2e-2aa0751dc661",
   "metadata": {},
   "source": [
    "## 4) Varrying sigmas for different hypothetical measurement values"
   ]
  },
  {
   "cell_type": "code",
   "execution_count": 37,
   "id": "30d2d401-89eb-4bbd-8090-5cfb9671101e",
   "metadata": {},
   "outputs": [
    {
     "name": "stdout",
     "output_type": "stream",
     "text": [
      "Probability:\t0.9559974818331\n",
      "Sigma:\t\t0.1706016345490312\n"
     ]
    }
   ],
   "source": [
    "# Prob. of seeing a signal of 0.03 or higher \n",
    "p = rayleigh.sf(x = 0.03, loc = 0, scale = 0.1)\n",
    "print(\"Probability:\\t\" + str(p))\n",
    "print(\"Sigma:\\t\\t\" + str(scipy.stats.norm.ppf(p, loc = 0.0, scale = 0.1)))"
   ]
  },
  {
   "cell_type": "code",
   "execution_count": 38,
   "id": "d5913492-7c44-4c1e-9d8f-3c1bc6c9d7dd",
   "metadata": {},
   "outputs": [
    {
     "name": "stdout",
     "output_type": "stream",
     "text": [
      "Probability:\t0.9231163463866358\n",
      "Sigma:\t\t0.1426350108917192\n"
     ]
    }
   ],
   "source": [
    "# Prob. of seeing a signal of 0.04 or higher \n",
    "p = rayleigh.sf(x = 0.04, loc = 0, scale = 0.1)\n",
    "print(\"Probability:\\t\" + str(p))\n",
    "print(\"Sigma:\\t\\t\" + str(scipy.stats.norm.ppf(p, loc = 0.0, scale = 0.1)))"
   ]
  },
  {
   "cell_type": "code",
   "execution_count": 39,
   "id": "56b52be4-9236-4c69-92e5-c8ec0f5cb9e1",
   "metadata": {},
   "outputs": [
    {
     "name": "stdout",
     "output_type": "stream",
     "text": [
      "Probability:\t0.6065306597126334\n",
      "Sigma:\t\t0.02702880207387359\n"
     ]
    }
   ],
   "source": [
    "# Prob. of seeing a signal of 0.1 or higher \n",
    "p = rayleigh.sf(x = 0.1, loc = 0, scale = 0.1)\n",
    "print(\"Probability:\\t\" + str(p))\n",
    "print(\"Sigma:\\t\\t\" + str(scipy.stats.norm.ppf(p, loc = 0.0, scale = 0.1)))"
   ]
  },
  {
   "cell_type": "code",
   "execution_count": 40,
   "id": "a8b6cf98-7bcc-4b18-95c3-36d4f69c93f8",
   "metadata": {},
   "outputs": [
    {
     "name": "stdout",
     "output_type": "stream",
     "text": [
      "Probability:\t0.1353352832366127\n",
      "Sigma:\t\t-0.11015196284987501\n"
     ]
    }
   ],
   "source": [
    "# Prob. of seeing a signal of 0.2 or higher \n",
    "p = rayleigh.sf(x = 0.2, loc = 0, scale = 0.1)\n",
    "print(\"Probability:\\t\" + str(p))\n",
    "print(\"Sigma:\\t\\t\" + str(scipy.stats.norm.ppf(p, loc = 0.0, scale = 0.1)))"
   ]
  },
  {
   "cell_type": "code",
   "execution_count": 41,
   "id": "3e802d21-adce-4890-be26-8d9758fdc45e",
   "metadata": {},
   "outputs": [
    {
     "name": "stdout",
     "output_type": "stream",
     "text": [
      "Probability:\t0.011108996538242316\n",
      "Sigma:\t\t-0.22866203381786088\n"
     ]
    }
   ],
   "source": [
    "# Prob. of seeing a signal of 0.3 or higher \n",
    "p = rayleigh.sf(x = 0.3, loc = 0, scale = 0.1)\n",
    "print(\"Probability:\\t\" + str(p))\n",
    "print(\"Sigma:\\t\\t\" + str(scipy.stats.norm.ppf(p, loc = 0.0, scale = 0.1)))"
   ]
  },
  {
   "cell_type": "code",
   "execution_count": 42,
   "id": "a248fa38-b9a3-455e-9023-2973911fbb43",
   "metadata": {},
   "outputs": [
    {
     "name": "stdout",
     "output_type": "stream",
     "text": [
      "Probability:\t0.00033546262790251185\n",
      "Sigma:\t\t-0.34011926561446654\n"
     ]
    }
   ],
   "source": [
    "# Prob. of seeing a signal of 0.4 or higher \n",
    "p = rayleigh.sf(x = 0.4, loc = 0, scale = 0.1)\n",
    "print(\"Probability:\\t\" + str(p))\n",
    "print(\"Sigma:\\t\\t\" + str(scipy.stats.norm.ppf(p, loc = 0.0, scale = 0.1)))"
   ]
  },
  {
   "cell_type": "code",
   "execution_count": 43,
   "id": "69ed62d9-c064-41f8-b37f-1e7cc347a9c4",
   "metadata": {},
   "outputs": [
    {
     "name": "stdout",
     "output_type": "stream",
     "text": [
      "Probability:\t1.5229979744712682e-08\n",
      "Sigma:\t\t-0.5538772166608071\n"
     ]
    }
   ],
   "source": [
    "# Prob. of seeing a signal of 0.3 or higher \n",
    "p = rayleigh.sf(x = 0.6, loc = 0, scale = 0.1)\n",
    "print(\"Probability:\\t\" + str(p))\n",
    "print(\"Sigma:\\t\\t\" + str(scipy.stats.norm.ppf(p, loc = 0.0, scale = 0.1)))"
   ]
  },
  {
   "cell_type": "code",
   "execution_count": 44,
   "id": "b885acbb-8030-4ada-8ac6-2935e5449576",
   "metadata": {},
   "outputs": [
    {
     "name": "stdout",
     "output_type": "stream",
     "text": [
      "Probability:\t0.999999995\n",
      "Sigma:\t\t0.573072886926708\n"
     ]
    }
   ],
   "source": [
    "# Prob. of seeing a signal of 0.3 or higher \n",
    "p = rayleigh.sf(x = 0.00001, loc = 0, scale = 0.1)\n",
    "print(\"Probability:\\t\" + str(p))\n",
    "print(\"Sigma:\\t\\t\" + str(scipy.stats.norm.ppf(p, loc = 0.0, scale = 0.1)))"
   ]
  },
  {
   "cell_type": "markdown",
   "id": "74d2c318-191a-4662-a8a1-f460b4daf050",
   "metadata": {},
   "source": [
    "### &nbsp;&nbsp;Pattern"
   ]
  },
  {
   "cell_type": "markdown",
   "id": "9c4dc949-3bf9-493f-9365-bd3b2f6376f6",
   "metadata": {},
   "source": [
    "Looks like the value for sigma decreases as you go from measurement value of 0 to infinity. Sigma increases as probability tends to 1"
   ]
  },
  {
   "cell_type": "markdown",
   "id": "8e1fd577-73e0-4e3b-b9bc-86854a2385ea",
   "metadata": {},
   "source": [
    "# Non-continuous distributions (Poisson Distributions)"
   ]
  },
  {
   "cell_type": "markdown",
   "id": "2eee1d5e-34d9-4752-b67b-935b2e71e319",
   "metadata": {},
   "source": [
    "The Poisson distribution is a discrete probability distribution. It express the probability that a given number of events happen in a fixed interval of time/space (these events must occur with a known constant mean rate and is independent of time since the last event (WikiPedia). In short it estimates how many times an event can happen in a specified time. The poisson distribution is also the limiting case of the binomial for when the probability is very low."
   ]
  },
  {
   "cell_type": "code",
   "execution_count": 45,
   "id": "8a26055d-ff2d-4515-a211-692c7ed9b251",
   "metadata": {},
   "outputs": [],
   "source": [
    "from scipy.stats import poisson\n",
    "import seaborn as sns"
   ]
  },
  {
   "cell_type": "markdown",
   "id": "0d21e657-09d0-44bb-9101-d6a8adba3f7f",
   "metadata": {},
   "source": [
    "## The probability mass fuction for poisson:"
   ]
  },
  {
   "cell_type": "markdown",
   "id": "69ed093e-48b5-4194-b0d5-d5c5fe32ee19",
   "metadata": {},
   "source": [
    "# $P\\left( x \\right) = \\frac{{e^{ - \\lambda } \\lambda ^x }}{{x!}}$"
   ]
  },
  {
   "cell_type": "markdown",
   "id": "67c2a526-f60f-4dd4-92c3-d4dbecf03a27",
   "metadata": {},
   "source": [
    "This mass function gives the probability of observing k evens in a time period given the length of length of the period and the average events per time\n",
    "\n",
    "$ \\lambda $ = (average events per time)*time period, the rate parameter (expected number of events in interval)\n",
    "\n",
    "We'll use python's library seaborn for visualization and scipy.stats for generating needed data for the Poisson distribution"
   ]
  },
  {
   "cell_type": "code",
   "execution_count": 46,
   "id": "2a0c1937-c8b7-40fa-84e6-7a5599392734",
   "metadata": {},
   "outputs": [],
   "source": [
    "# generating a poisson distribution\n",
    "# lamd - is the rate of which an event occurs given a time frame\n",
    "# size = total time for our context\n",
    "lamd = 3\n",
    "P = poisson.rvs(lamd, size=1000)"
   ]
  },
  {
   "cell_type": "code",
   "execution_count": 52,
   "id": "28d657b5-7960-431d-acec-008eea29dfda",
   "metadata": {},
   "outputs": [
    {
     "data": {
      "image/png": "[encoded data removed]",
      "text/plain": [
       "<Figure size 432x288 with 1 Axes>"
      ]
     },
     "metadata": {
      "needs_background": "light"
     },
     "output_type": "display_data"
    }
   ],
   "source": [
    "# visualizing the Poisson distribution\n",
    "sns.histplot(P, kde = False)\n",
    "plt.xlabel(\"Number of rare birds spotted\")\n",
    "plt.ylabel(\"\")\n",
    "plt.show()"
   ]
  },
  {
   "cell_type": "markdown",
   "id": "5985d5ef-4ca8-4ed8-9877-e05845f0285c",
   "metadata": {},
   "source": [
    "### &nbsp;&nbsp; Statistical question pertaining our Poisson distribution"
   ]
  },
  {
   "cell_type": "markdown",
   "id": "dd203a46-b3bc-4e7b-8f6f-b7c464cdc627",
   "metadata": {},
   "source": [
    "Scenario: We are out fishing and are waiting for them fishes to take bait. We notices birds flying in groups and in each of these groups there are a number of different color birds. We notice in particular a color that is eye catching to us but they are quite rare. So we set a timer and count how many of this bird type we see in 1000 seconds. After taking data, we find that on average, we see 3 three of this type in the time span of 1000 secounds.\n",
    "\n",
    "We also noticed that when 7 or more of this type are seen within this 1000 seconds time frame, an ultra rare bird that drops you fish appears, so we want to know, what is the probabily that we see 7 or more of this bird type in 1000 seconds.\n",
    "\n",
    "y-axis (count) is a count of the time out of 1000 seconds. So the tick 100 in the y axis means 100/1000 secounds"
   ]
  },
  {
   "cell_type": "code",
   "execution_count": 26,
   "id": "c9ab11b6-7151-4e35-afbe-178fd7bd39e3",
   "metadata": {},
   "outputs": [
    {
     "name": "stdout",
     "output_type": "stream",
     "text": [
      "Probability:\t0.01190450385635739\n",
      "Sigma:\t\t0.0\n"
     ]
    }
   ],
   "source": [
    "# Prob. 6 or more of this rare type bird in 1000 secounds\n",
    "num_rare_birds = 7\n",
    "prob = poisson.sf(num_rare_birds, lamd, loc = 0)\n",
    "print(\"Probability:\\t\" + str(prob))\n",
    "print(\"Sigma:\\t\\t\" + str(poisson.ppf(prob, lamd, loc = 0.0)))"
   ]
  },
  {
   "cell_type": "code",
   "execution_count": 27,
   "id": "c7cd4f36-1517-462e-8ad8-f1d43cfbca09",
   "metadata": {},
   "outputs": [
    {
     "name": "stdout",
     "output_type": "stream",
     "text": [
      "Probability:\t0.5768099188731566\n",
      "Sigma:\t\t3.0\n"
     ]
    }
   ],
   "source": [
    "# Prob. 2 or more of this rare type bird in 1000 secounds\n",
    "num_rare_birds = 2\n",
    "prob = poisson.sf(num_rare_birds, lamd, loc = 0)\n",
    "print(\"Probability:\\t\" + str(prob))\n",
    "print(\"Sigma:\\t\\t\" + str(poisson.ppf(prob, lamd, loc = 0.0)))"
   ]
  },
  {
   "cell_type": "code",
   "execution_count": 28,
   "id": "6b19b1e9-d2ae-411e-a3d8-9ea5e1818bd4",
   "metadata": {},
   "outputs": [
    {
     "name": "stdout",
     "output_type": "stream",
     "text": [
      "Probability:\t0.01190450385635739\n",
      "Sigma:\t\t0.0\n"
     ]
    }
   ],
   "source": [
    "# Prob. 7 or more of this rare type bird in 1000 secounds\n",
    "num_rare_birds = 7\n",
    "prob = poisson.sf(num_rare_birds, lamd, loc = 0)\n",
    "print(\"Probability:\\t\" + str(prob))\n",
    "print(\"Sigma:\\t\\t\" + str(poisson.ppf(prob, lamd, loc = 0.0)))"
   ]
  },
  {
   "cell_type": "code",
   "execution_count": 29,
   "id": "33814897-8ca8-42e4-a595-2270536d4e9d",
   "metadata": {},
   "outputs": [
    {
     "name": "stdout",
     "output_type": "stream",
     "text": [
      "Probability:\t0.003802992061675955\n",
      "Sigma:\t\t0.0\n"
     ]
    }
   ],
   "source": [
    "# Prob. 8 or more of this rare type bird in 1000 secounds\n",
    "num_rare_birds = 8\n",
    "prob = poisson.sf(num_rare_birds, lamd, loc = 0)\n",
    "print(\"Probability:\\t\" + str(prob))\n",
    "print(\"Sigma:\\t\\t\" + str(poisson.ppf(prob, lamd, loc = 0.0)))"
   ]
  },
  {
   "cell_type": "code",
   "execution_count": 30,
   "id": "2b411fd4-f2c4-4154-b706-2b701c8995c4",
   "metadata": {},
   "outputs": [
    {
     "name": "stdout",
     "output_type": "stream",
     "text": [
      "Probability:\t0.8008517265285442\n",
      "Sigma:\t\t4.0\n"
     ]
    }
   ],
   "source": [
    "# Prob. 1 or more of this rare type bird in 1000 secounds\n",
    "num_rare_birds = 1\n",
    "prob = poisson.sf(num_rare_birds, lamd, loc = 0)\n",
    "print(\"Probability:\\t\" + str(prob))\n",
    "print(\"Sigma:\\t\\t\" + str(poisson.ppf(prob, lamd, loc = 0.0)))"
   ]
  },
  {
   "cell_type": "code",
   "execution_count": 31,
   "id": "7c1034f0-5651-43bf-aac7-e1665acad91e",
   "metadata": {},
   "outputs": [
    {
     "name": "stdout",
     "output_type": "stream",
     "text": [
      "Probability:\t0.0011024881301154815\n",
      "Sigma:\t\t0.0\n"
     ]
    }
   ],
   "source": [
    "# Prob. 9 or more of this rare type bird in 1000 secounds\n",
    "num_rare_birds = 9\n",
    "prob = poisson.sf(num_rare_birds, lamd, loc = 0)\n",
    "print(\"Probability:\\t\" + str(prob))\n",
    "print(\"Sigma:\\t\\t\" + str(poisson.ppf(prob, lamd, loc = 0.0)))"
   ]
  },
  {
   "cell_type": "code",
   "execution_count": 50,
   "id": "4830aa44-15e8-40bb-8f9f-d25a0dd906ec",
   "metadata": {},
   "outputs": [
    {
     "name": "stdout",
     "output_type": "stream",
     "text": [
      "Probability:\t0.00029233695064733665\n",
      "Sigma:\t\t0.0\n"
     ]
    }
   ],
   "source": [
    "# Prob. 10 or more of this rare type bird in 1000 secounds\n",
    "num_rare_birds = 10\n",
    "prob = poisson.sf(num_rare_birds, lamd, loc = 0)\n",
    "print(\"Probability:\\t\" + str(prob))\n",
    "print(\"Sigma:\\t\\t\" + str(poisson.ppf(prob, lamd, loc = 0.0)))"
   ]
  },
  {
   "cell_type": "code",
   "execution_count": 51,
   "id": "658b4a6b-a674-41f6-be93-4964d7230afc",
   "metadata": {},
   "outputs": [
    {
     "name": "stdout",
     "output_type": "stream",
     "text": [
      "Probability:\t8.413939063213629e-114\n",
      "Sigma:\t\t0.0\n"
     ]
    }
   ],
   "source": [
    "# Prob. 100 or more of this rare type bird in 1000 secounds\n",
    "num_rare_birds = 100\n",
    "prob = poisson.sf(num_rare_birds, lamd, loc = 0)\n",
    "print(\"Probability:\\t\" + str(prob))\n",
    "print(\"Sigma:\\t\\t\" + str(poisson.ppf(prob, lamd, loc = 0.0)))"
   ]
  },
  {
   "cell_type": "markdown",
   "id": "76fbb3fd-ddac-40cb-be4e-818a11768dee",
   "metadata": {},
   "source": [
    "#### Possion distributions are discrete, so are the probabilities and 'sigmas'. Think about this and discuss the implications for experiments."
   ]
  },
  {
   "cell_type": "markdown",
   "id": "57b604aa-376c-4061-b482-397a733f1ac0",
   "metadata": {},
   "source": [
    " &nbsp;&nbsp; For something like this, I would imgagine our instruments for making measurements must be percise. Otherwise small fluatuations may lead as to differences in results."
   ]
  },
  {
   "cell_type": "markdown",
   "id": "6281d982-e1f3-42ba-9dd4-971963eb1fc4",
   "metadata": {},
   "source": [
    "#### While the results are discrete, the parameters of the distributions are not. For example, the mean of a Poisson distribution can be 9.2. Think about and explain why this makes sense and what changes continuously and what doesn't."
   ]
  },
  {
   "cell_type": "markdown",
   "id": "0982adc8-362b-4469-b077-2f9ba31aec95",
   "metadata": {},
   "source": [
    " &nbsp;&nbsp; There will still be parameters like the mean that are not discrete, which is okay because parameters such as this are not what tell us probabilities, which is what we are interested in. Looking at the plot we made above, the y-axis gives a count of secounds we see some number of the rare birds. In a sense, if we divide the values of y-axis by 1000, we get number of birds vs probability plot. Since the x axis is a count of the number of the rare bird we might see. Though the number of birds we see is discrete, when we translate our data into plots, our reprentation can give rise to parameters like the mean of the distribution to &nbsp;&nbsp;be non-discrete. However this is just the representation of it and when we analyze the data, we don't look at the mean just as a reference."
   ]
  }
 ],
 "metadata": {
  "kernelspec": {
   "display_name": "Python 3",
   "language": "python",
   "name": "python3"
  },
  "language_info": {
   "codemirror_mode": {
    "name": "ipython",
    "version": 3
   },
   "file_extension": ".py",
   "mimetype": "text/x-python",
   "name": "python",
   "nbconvert_exporter": "python",
   "pygments_lexer": "ipython3",
   "version": "3.8.8"
  }
 },
 "nbformat": 4,
 "nbformat_minor": 5
}
