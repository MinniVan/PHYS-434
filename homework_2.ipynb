{
 "cells": [
  {
   "cell_type": "markdown",
   "id": "078e3db2-3cae-4f59-b326-acf0f37f2d54",
   "metadata": {},
   "source": [
    "&nbsp;&nbsp;&nbsp;&nbsp;  1) A little introductory brain teaser. Which is more probable when rolling 2 six-sided dice: rolling snake eyes (two ones) or rolling sevens (dice sum to seven)? What is the ratio of the probabilities?"
   ]
  },
  {
   "cell_type": "markdown",
   "id": "d28a0584-2ca1-4adc-965b-345f5b8ae7cc",
   "metadata": {},
   "source": [
    "There are two-six sided dice, this means the number of combination that are possible is $6^2$. Rolling snake eyes means both dice must land on 1, there's only one possible combination for that, hence the probabily for rolling snake eyes is $\\frac {1}{36}$. Rolling a seven means the two dice must add up to 7, there are 6 possible combinations for the two dice that would give us a sum of 7. So the probabily of rolling 7 given two six-sided dice is $\\frac {6}{36}$. SO, rolling a 7 is more probable. RATIO OF PROBABILITES: $\\frac {1}{36}$ : $\\frac {6}{36}$"
   ]
  },
  {
   "cell_type": "code",
   "execution_count": null,
   "id": "2604b6d5-fe1d-4b41-b5b1-7a8d3188c3eb",
   "metadata": {},
   "outputs": [],
   "source": []
  }
 ],
 "metadata": {
  "kernelspec": {
   "display_name": "Python 3",
   "language": "python",
   "name": "python3"
  },
  "language_info": {
   "codemirror_mode": {
    "name": "ipython",
    "version": 3
   },
   "file_extension": ".py",
   "mimetype": "text/x-python",
   "name": "python",
   "nbconvert_exporter": "python",
   "pygments_lexer": "ipython3",
   "version": "3.8.8"
  }
 },
 "nbformat": 4,
 "nbformat_minor": 5
}
