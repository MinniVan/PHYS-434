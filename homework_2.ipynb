{
 "cells": [
  {
   "cell_type": "markdown",
   "id": "078e3db2-3cae-4f59-b326-acf0f37f2d54",
   "metadata": {},
   "source": [
    "&nbsp;&nbsp;&nbsp;&nbsp;  1) A little introductory brain teaser. Which is more probable when rolling 2 six-sided dice: rolling snake eyes (two ones) or rolling sevens (dice sum to seven)? What is the ratio of the probabilities?"
   ]
  },
  {
   "cell_type": "markdown",
   "id": "d28a0584-2ca1-4adc-965b-345f5b8ae7cc",
   "metadata": {},
   "source": [
    "There are two-six sided dice, this means the number of combination that are possible is $6^2$. Rolling snake eyes means both dice must land on 1, there's only one possible combination for that, hence the probabily for rolling snake eyes is $\\frac {1}{36}$. Rolling a seven means the tw|o dice must add up to 7, there are 6 possible combinations for the two dice that would give us a sum of 7. So the probabily of rolling 7 given two six-sided dice is $\\frac {6}{36}$. SO, rolling a 7 is more probable."
   ]
  },
  {
   "cell_type": "markdown",
   "id": "6e373704-c516-4a59-9fbf-98eef1186ac8",
   "metadata": {},
   "source": [
    "&nbsp;&nbsp;&nbsp;&nbsp; RATIO OF PROBABILITES: $\\frac {1}{36}$ : $\\frac {6}{36}$"
   ]
  },
  {
   "cell_type": "markdown",
   "id": "c311b851-fc32-47da-9597-45996b45cac1",
   "metadata": {},
   "source": [
    "&nbsp;&nbsp;&nbsp;&nbsp; 2) Use the convolution operator to determine the probability of the sum of 2 six sided dice."
   ]
  },
  {
   "cell_type": "code",
   "execution_count": 1,
   "id": "a95ea4ba-365c-4bd3-a93c-61ff48ad84b4",
   "metadata": {},
   "outputs": [],
   "source": [
    "import numpy as np\n",
    "import scipy\n",
    "import matplotlib.pyplot as plt\n"
   ]
  },
  {
   "cell_type": "code",
   "execution_count": 2,
   "id": "1d6d71a5-7fe0-46ee-9e52-3a147c2af0d0",
   "metadata": {},
   "outputs": [],
   "source": [
    "dice_probs = [1/6]*6"
   ]
  },
  {
   "cell_type": "code",
   "execution_count": 3,
   "id": "4ff48b4d-b262-4ae3-99e1-eb063b7ac825",
   "metadata": {},
   "outputs": [],
   "source": [
    "convolved_sum = np.convolve(dice_probs, dice_probs, mode='full')\n",
    "out_come = np.linspace(2, 12, 11)"
   ]
  },
  {
   "cell_type": "markdown",
   "id": "bb0a2f86-b077-4412-a5d1-03cc6821f3d1",
   "metadata": {},
   "source": [
    "Possible combinations:\n",
    "<br/> Sum &nbsp;&nbsp; Combo\n",
    "<br/> 2 &nbsp; --> (1, 1)\n",
    "<br/> 3 &nbsp; --> (1, 2) (2, 1)\n",
    "<br/> 4 &nbsp; --> (1, 3) (3, 1) (2, 2)\n",
    "<br/> 5 &nbsp; --> (1, 4) (4, 1) (2, 3) (3,2)\n",
    "<br/> 6 &nbsp; --> (1, 5) (5, 1) (2, 4) (4, 2) (3, 3)\n",
    "<br/> 7 &nbsp; --> (1, 6) (6, 1) (2, 5) (5, 2) (3, 4) (4, 3)\n",
    "<br/> 8 &nbsp; --> (2, 6) (6, 2) (3, 5) (5, 3) (4, 4)\n",
    "<br/> 9 &nbsp; --> (3, 6) (6, 3) (4, 5) (5, 4)\n",
    "<br/> 10 --> (4, 6) (6, 4) (5, 5)\n",
    "<br/> 11 --> (5, 6) (6, 5)\n",
    "<br/> 12 --> (6, 6)"
   ]
  },
  {
   "cell_type": "code",
   "execution_count": 4,
   "id": "499271b4-2ee7-4fb3-af32-31b70928e0d4",
   "metadata": {},
   "outputs": [
    {
     "data": {
      "image/png": "[encoded data removed]",
      "text/plain": [
       "<Figure size 432x288 with 1 Axes>"
      ]
     },
     "metadata": {
      "needs_background": "light"
     },
     "output_type": "display_data"
    }
   ],
   "source": [
    "\n",
    "plt.step(out_come, convolved_sum, where = 'mid')\n",
    "plt.title('Probabilty vs sum of two die')\n",
    "plt.ylabel('Probability')\n",
    "plt.xlabel('Sum of two die')\n",
    "plt.show()"
   ]
  },
  {
   "cell_type": "markdown",
   "id": "c7ad8d06-1a0f-41f8-9e8c-4076889c00e1",
   "metadata": {},
   "source": [
    "&nbsp;&nbsp;&nbsp;&nbsp; 3) Calculate the mean and the variance of the distribution"
   ]
  },
  {
   "cell_type": "code",
   "execution_count": 5,
   "id": "cc27dde6-f570-45ea-a2cc-d2bff693ff5e",
   "metadata": {},
   "outputs": [],
   "source": [
    "mean = 0\n",
    "for i in range(len(out_come)):\n",
    "               mean += out_come[i]*convolved_sum[i]"
   ]
  },
  {
   "cell_type": "code",
   "execution_count": 6,
   "id": "8de8117a-ae0f-4e15-ac97-89818a605efb",
   "metadata": {},
   "outputs": [],
   "source": [
    "var = 0\n",
    "for i in range(len(out_come)):\n",
    "    var += ((out_come[i]-mean)**2)*convolved_sum[i]"
   ]
  },
  {
   "cell_type": "code",
   "execution_count": null,
   "id": "1c6e944a-1ae2-443f-9f82-35fb06a9d5ba",
   "metadata": {},
   "outputs": [],
   "source": []
  },
  {
   "cell_type": "code",
   "execution_count": 7,
   "id": "2fa93cad-3f30-40de-8a26-6cf5a4f2bfa4",
   "metadata": {},
   "outputs": [],
   "source": [
    "\n",
    "for i in range(8):\n",
    "    convolved_sum = np.convolve(convolved_sum, dice_probs, mode='full')\n",
    "    "
   ]
  },
  {
   "cell_type": "code",
   "execution_count": 8,
   "id": "7933cd5d-5f92-4169-a609-d5c7607f7350",
   "metadata": {},
   "outputs": [
    {
     "data": {
      "text/plain": [
       "array([1.65381717e-08, 1.65381717e-07, 9.09599443e-07, 3.63839777e-06,\n",
       "       1.18247928e-05, 3.31094197e-05, 8.26081676e-05, 1.87542867e-04,\n",
       "       3.92946959e-04, 7.67701930e-04, 1.40951530e-03, 2.44665712e-03,\n",
       "       4.03407353e-03, 6.34189270e-03, 9.53533096e-03, 1.37465945e-02,\n",
       "       1.90415547e-02, 2.53867551e-02, 3.26236936e-02, 4.04573294e-02,\n",
       "       4.84643679e-02, 5.61241048e-02, 6.28704385e-02, 6.81581055e-02,\n",
       "       7.15327194e-02, 7.26928060e-02, 7.15327194e-02, 6.81581055e-02,\n",
       "       6.28704385e-02, 5.61241048e-02, 4.84643679e-02, 4.04573294e-02,\n",
       "       3.26236936e-02, 2.53867551e-02, 1.90415547e-02, 1.37465945e-02,\n",
       "       9.53533096e-03, 6.34189270e-03, 4.03407353e-03, 2.44665712e-03,\n",
       "       1.40951530e-03, 7.67701930e-04, 3.92946959e-04, 1.87542867e-04,\n",
       "       8.26081676e-05, 3.31094197e-05, 1.18247928e-05, 3.63839777e-06,\n",
       "       9.09599443e-07, 1.65381717e-07, 1.65381717e-08])"
      ]
     },
     "execution_count": 8,
     "metadata": {},
     "output_type": "execute_result"
    }
   ],
   "source": [
    "convolved_sum"
   ]
  },
  {
   "cell_type": "code",
   "execution_count": 9,
   "id": "6d068a8b-f227-4d04-96ab-928e4ffc3ccd",
   "metadata": {},
   "outputs": [
    {
     "data": {
      "image/png": "[encoded data removed]",
      "text/plain": [
       "<Figure size 432x288 with 1 Axes>"
      ]
     },
     "metadata": {
      "needs_background": "light"
     },
     "output_type": "display_data"
    }
   ],
   "source": [
    "x = np.linspace(1,6, len(convolved_sum))\n",
    "plt.step(x, y = convolved_sum, where='post', label='post')\n",
    "plt.title('Probabilty vs sum of two die')\n",
    "plt.ylabel('Probability')\n",
    "plt.xlabel('Sum of 10 die')\n",
    "plt.show()"
   ]
  },
  {
   "cell_type": "code",
   "execution_count": 10,
   "id": "b420c250-3f79-403b-a1e6-0a2c9e1caf92",
   "metadata": {},
   "outputs": [
    {
     "data": {
      "image/png": "[encoded data removed]",
      "text/plain": [
       "<Figure size 432x288 with 1 Axes>"
      ]
     },
     "metadata": {
      "needs_background": "light"
     },
     "output_type": "display_data"
    }
   ],
   "source": [
    "plt.semilogy(x, convolved_sum )\n",
    "plt.title('log(probabilty) vs sum of two die')\n",
    "plt.ylabel('log(Probability)')\n",
    "plt.xlabel('Sum of 10 die')\n",
    "plt.show()"
   ]
  },
  {
   "cell_type": "markdown",
   "id": "a17f373e-e15e-4c9f-820f-3acefeed3c35",
   "metadata": {},
   "source": [
    "When we plot the convoluted distribution in a semi-ylog plot, we get what looks like a parabola. And so this this distribution is gausian "
   ]
  },
  {
   "cell_type": "code",
   "execution_count": null,
   "id": "c1b65e72-804f-4c1a-9355-20a5d0bc5e6e",
   "metadata": {},
   "outputs": [],
   "source": []
  },
  {
   "cell_type": "code",
   "execution_count": null,
   "id": "bc794ffc-11c9-4931-8af7-74771fbe5c07",
   "metadata": {},
   "outputs": [],
   "source": []
  }
 ],
 "metadata": {
  "kernelspec": {
   "display_name": "Python 3",
   "language": "python",
   "name": "python3"
  },
  "language_info": {
   "codemirror_mode": {
    "name": "ipython",
    "version": 3
   },
   "file_extension": ".py",
   "mimetype": "text/x-python",
   "name": "python",
   "nbconvert_exporter": "python",
   "pygments_lexer": "ipython3",
   "version": "3.8.8"
  }
 },
 "nbformat": 4,
 "nbformat_minor": 5
}
