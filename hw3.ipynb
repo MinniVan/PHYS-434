{
 "cells": [
  {
   "cell_type": "markdown",
   "id": "563c930c-3b08-44de-bd7a-b4f806b0f871",
   "metadata": {},
   "source": [
    "# Problem 1 : Truth Tables"
   ]
  },
  {
   "cell_type": "markdown",
   "id": "8d3889ef-6df2-43f0-83c0-ef71c810b4fc",
   "metadata": {},
   "source": [
    "There are 48 birds and 52 People, there is a Neutal network that called three of the birds people, and 5 of the people birds. We created another algorithm (NA) which called called one of the birds people, and 11 of the people birds."
   ]
  },
  {
   "cell_type": "markdown",
   "id": "2e02fe4a-f713-41ab-a5a6-e6e8e67c3c8d",
   "metadata": {},
   "source": [
    "#### 1 a) Which algorithm makes the fewest mistakes?"
   ]
  },
  {
   "cell_type": "markdown",
   "id": "946ad9a0-1066-45b2-98af-f692a038a3a8",
   "metadata": {},
   "source": [
    "Well, if we count up the total mistakes made, the NN makes a total of 8 mistakes, whereas our algorithm made a total of 12 miskes. And so the NN made the fewest mistakes."
   ]
  },
  {
   "cell_type": "markdown",
   "id": "87186abb-ff16-454b-b308-6492e1bfc3d8",
   "metadata": {},
   "source": [
    "#### 1 b) Which algorithm is better for the zoo? Explain."
   ]
  },
  {
   "cell_type": "markdown",
   "id": "76fd8d7d-c5e7-493b-a8de-03a7c804acd4",
   "metadata": {},
   "source": [
    "Since really don't want to let birds escape, and locking a person in for 30 extra seconds is not a big deal, our algorithm would be better for the zoo since only one of the birds was mislabled as a person, vs three birds by the NN."
   ]
  },
  {
   "cell_type": "markdown",
   "id": "865b4d97-e820-4707-8647-e0e42abb4a3b",
   "metadata": {},
   "source": [
    "#### 1 c)"
   ]
  },
  {
   "cell_type": "code",
   "execution_count": 2,
   "id": "cee95660-6734-4087-96c0-5dafb4000612",
   "metadata": {},
   "outputs": [],
   "source": [
    "#table = {\"True T\" : {\"Your Test Good\" : good_kept, \"Your Test Bad\": bad_kept}, \n",
    "#                \"Bad T\": {\"Your Test Good\" : good_data_removed, \"Your Test Bad\":bad_data_removed }}"
   ]
  },
  {
   "cell_type": "markdown",
   "id": "c40ced49-f0eb-412c-8ed6-dba81b104a32",
   "metadata": {},
   "source": [
    "# Problem 2"
   ]
  },
  {
   "cell_type": "markdown",
   "id": "08142215-bc45-4244-84f6-84d66eb141ac",
   "metadata": {},
   "source": [
    "### a) What is the pdf of the sum of two identical exponential distributions?\n",
    "\n",
    "#### The probability distribution function (PDF) of a sum of two independent random variables is given by:\n",
    "\n",
    "### \\begin{aligned}f_{Z}(z)&=\\int _{-\\infty }^{\\infty }f_{X_{1}}(x_{1})f_{X_{2}}(z-x_{1})\\,dx_{1}\\\\&=\\int _{0}^{z}\\lambda _{1}e^{-\\lambda _{1}x_{1}}\\lambda _{2}e^{-\\lambda _{2}(z-x_{1})}\\,dx_{1}\\\\&=\\lambda _{1}\\lambda _{2}e^{-\\lambda _{2}z}\\int _{0}^{z}e^{(\\lambda _{2}-\\lambda _{1})x_{1}}\\,dx_{1}\\\\&={\\begin{cases}{\\dfrac {\\lambda _{1}\\lambda _{2}}{\\lambda _{2}-\\lambda _{1}}}\\left(e^{-\\lambda _{1}z}-e^{-\\lambda _{2}z}\\right)&{\\text{ if }}\\lambda _{1}\\neq \\lambda _{2}\\\\[4pt]\\lambda ^{2}ze^{-\\lambda z}&{\\text{ if }}\\lambda _{1}=\\lambda _{2}=\\lambda .\\end{cases}}\\end{aligned}\n"
   ]
  },
  {
   "cell_type": "markdown",
   "id": "a20299d2-4ce1-4ccd-b15d-de8e1159cc7f",
   "metadata": {},
   "source": [
    "#### When the rate parameters $\\lambda_{1}$ and $\\lambda_{2}$ are the same, (two identicial exponential distributions). The result is an Erlang distribution with shape 2 and parameter $\\lambda$"
   ]
  },
  {
   "cell_type": "markdown",
   "id": "69a616a0-d0a8-47f6-a2b4-118252546bc6",
   "metadata": {},
   "source": [
    "### b) What is the pdf of the ratio of two zero-mean unity variance normal distributions  $\\frac{X_{1}}{X_{2}}$ ?"
   ]
  },
  {
   "cell_type": "markdown",
   "id": "2a0dc693-5030-405a-a34b-938bb90a3f2e",
   "metadata": {},
   "source": [
    "The pdf of the ratio of two zero-mean unity variance normal distribution is a standard Cauchy distribution.\n",
    "\n",
    "http://www.math.wm.edu/~leemis/chart/UDR/PDFs/StandardnormalStandardcauchy.pdf"
   ]
  },
  {
   "cell_type": "markdown",
   "id": "8c9c1afb-2c74-4100-a78e-204f0efeddbd",
   "metadata": {},
   "source": [
    "### c) \n",
    "So far we have looked at 1D probability distributions, but it is possible to have a multi-dimensional vector distribution. A simple first introduction is the 2D Guassian; it looks like a smeared spot. Mathematically this is given by  Xi^+Yj^  where both  X  and  Y  are drawn from 1D Gaussian distributions. If I measure the amplitude of this vector, what is its pdf?"
   ]
  },
  {
   "cell_type": "markdown",
   "id": "32526ffe-95de-490d-a6d5-af6bd1b29ef2",
   "metadata": {},
   "source": [
    "What we're really being asked is what is the square of a 1D Gausian distribution. This turns out to be a Rayleigh distribution"
   ]
  },
  {
   "cell_type": "code",
   "execution_count": null,
   "id": "b7312ac7-4783-4bbe-94e8-7bb6aa79b0f5",
   "metadata": {},
   "outputs": [],
   "source": []
  }
 ],
 "metadata": {
  "kernelspec": {
   "display_name": "Python 3",
   "language": "python",
   "name": "python3"
  },
  "language_info": {
   "codemirror_mode": {
    "name": "ipython",
    "version": 3
   },
   "file_extension": ".py",
   "mimetype": "text/x-python",
   "name": "python",
   "nbconvert_exporter": "python",
   "pygments_lexer": "ipython3",
   "version": "3.8.8"
  }
 },
 "nbformat": 4,
 "nbformat_minor": 5
}
