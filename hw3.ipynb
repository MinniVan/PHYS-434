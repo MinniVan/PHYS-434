{
 "cells": [
  {
   "cell_type": "markdown",
   "id": "563c930c-3b08-44de-bd7a-b4f806b0f871",
   "metadata": {},
   "source": [
    "# Problem 1 : Truth Tables"
   ]
  },
  {
   "cell_type": "markdown",
   "id": "8d3889ef-6df2-43f0-83c0-ef71c810b4fc",
   "metadata": {},
   "source": [
    "There are 48 birds and 52 People, there is a Neutal network that called three of the birds people, and 5 of the people birds. We created another algorithm (NA) which called called one of the birds people, and 11 of the people birds."
   ]
  },
  {
   "cell_type": "markdown",
   "id": "2e02fe4a-f713-41ab-a5a6-e6e8e67c3c8d",
   "metadata": {},
   "source": [
    "#### 1 a) Which algorithm makes the fewest mistakes?"
   ]
  },
  {
   "cell_type": "markdown",
   "id": "946ad9a0-1066-45b2-98af-f692a038a3a8",
   "metadata": {},
   "source": [
    "Well, if we count up the total mistakes made, the NN makes a total of 8 mistakes, whereas our algorithm made a total of 12 miskes. And so the NN made the fewest mistakes."
   ]
  },
  {
   "cell_type": "markdown",
   "id": "87186abb-ff16-454b-b308-6492e1bfc3d8",
   "metadata": {},
   "source": [
    "#### 1 b) Which algorithm is better for the zoo? Explain."
   ]
  },
  {
   "cell_type": "markdown",
   "id": "76fd8d7d-c5e7-493b-a8de-03a7c804acd4",
   "metadata": {},
   "source": [
    "Since really don't want to let birds escape, and locking a person in for 30 extra seconds is not a big deal, our algorithm would be better for the zoo since only one of the birds was mislabled as a person, vs three birds by the NN."
   ]
  },
  {
   "cell_type": "markdown",
   "id": "865b4d97-e820-4707-8647-e0e42abb4a3b",
   "metadata": {},
   "source": [
    "#### 1 c) Which algorithm is better for the zoo? Explain."
   ]
  },
  {
   "cell_type": "code",
   "execution_count": null,
   "id": "cee95660-6734-4087-96c0-5dafb4000612",
   "metadata": {},
   "outputs": [],
   "source": []
  }
 ],
 "metadata": {
  "kernelspec": {
   "display_name": "Python 3",
   "language": "python",
   "name": "python3"
  },
  "language_info": {
   "codemirror_mode": {
    "name": "ipython",
    "version": 3
   },
   "file_extension": ".py",
   "mimetype": "text/x-python",
   "name": "python",
   "nbconvert_exporter": "python",
   "pygments_lexer": "ipython3",
   "version": "3.8.8"
  }
 },
 "nbformat": 4,
 "nbformat_minor": 5
}
