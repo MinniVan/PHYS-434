{
 "cells": [
  {
   "cell_type": "markdown",
   "id": "7dfce2e3-06c2-4633-b11f-d131f60ee45e",
   "metadata": {},
   "source": [
    "# LAB 5: Higgs Classification\n",
    "\n",
    "For this lab, we look at an inclusive search for the Standard Model's Higgs boson in high energy proton-proton collissions at $\\sqrt{s} = 13 TEv$ at the Large Hadron Collider using simulated data. Higgs bosons are produced with large traverse momentum $(pT)$ and decay to a bottom quark - antiquark pair. We can use Calorimeters to reconstruct Higgs candinates as large-radius jets. Large QCD background containmination prevents us from achieving $5\\sigma$ obervation of this Higgs channel. We'll be using a set of training datasets to optimize events selctreion in order to better the discovery sensitivity."
   ]
  },
  {
   "cell_type": "markdown",
   "id": "fa97fa95-e08d-4085-8aa8-0d2691e107c3",
   "metadata": {},
   "source": [
    "### Jets\n",
    "Jets are collections of particles that go toward the same direction in the detector. They come form Bremsstrahlung(showering) and fragmentation of primordial hard quark or gluon. Jets must be defined from experimental observables, namely the 4-momenta of the observed particles in the event. One of the properties of jets is that they allow for calculation to be done at the parton level(quarks and gluons) to agree with a measurement done at the particle level(pions and protons). Another feature is that a jet algorithm should be local in the detector (not pulling in particles from far away). This reduces systematic uncertainty of jet measurements. This simplest way to define a jet is to draw a cone of size $R=\\sqrt{(Δη)^2+Δ(ϕ)^2}$ around some particle and include everything in that cone as the jet."
   ]
  },
  {
   "cell_type": "code",
   "execution_count": 1,
   "id": "5fe3c9d1-7495-485c-b5bb-f487849d9eb5",
   "metadata": {},
   "outputs": [
    {
     "data": {
      "text/plain": [
       "Index(['pt', 'eta', 'phi', 'mass', 'ee2', 'ee3', 'd2', 'angularity', 't1',\n",
       "       't2', 't3', 't21', 't32', 'KtDeltaR'],\n",
       "      dtype='object')"
      ]
     },
     "execution_count": 1,
     "metadata": {},
     "output_type": "execute_result"
    }
   ],
   "source": [
    "# import library\n",
    "import pickle\n",
    "\n",
    "# open the file of interest, and use pickle loading\n",
    "infile = open (\"../higgs_100000_pt_1000_1200.pkl\",'rb')\n",
    "new_dict = pickle.load(infile)\n",
    "\n",
    "# list all keys of the files\n",
    "new_dict.keys()"
   ]
  },
  {
   "cell_type": "code",
   "execution_count": 2,
   "id": "0b93188a-e2dd-40e8-874c-2cc010c4c3fd",
   "metadata": {},
   "outputs": [
    {
     "name": "stdout",
     "output_type": "stream",
     "text": [
      "126.39070494296645 1.565920565144541\n",
      "125.73547207947769 0.8224079853829884\n",
      "125.94694825108256 1.1595192989207739\n",
      "133.47505458091868 1.1312895177410458\n",
      "135.04731904755826 5.084334868566442\n",
      "126.18831893079289 1.9893365548544923\n",
      "132.22698108959537 0.8322677007024063\n",
      "125.91413826896284 2.2895005833240227\n",
      "125.00446344009822 0.8944416286773573\n",
      "135.17626897095028 1.0176201623059749\n"
     ]
    }
   ],
   "source": [
    "# Print two variables, mass and d2, of the first 10 jets\n",
    "for i in range(10):\n",
    " print(new_dict['mass'][i],new_dict['d2'][i])"
   ]
  },
  {
   "cell_type": "code",
   "execution_count": null,
   "id": "81618899-6691-48e7-9d8b-0e717ad8df24",
   "metadata": {},
   "outputs": [],
   "source": []
  }
 ],
 "metadata": {
  "kernelspec": {
   "display_name": "Python 3",
   "language": "python",
   "name": "python3"
  },
  "language_info": {
   "codemirror_mode": {
    "name": "ipython",
    "version": 3
   },
   "file_extension": ".py",
   "mimetype": "text/x-python",
   "name": "python",
   "nbconvert_exporter": "python",
   "pygments_lexer": "ipython3",
   "version": "3.8.8"
  }
 },
 "nbformat": 4,
 "nbformat_minor": 5
}
